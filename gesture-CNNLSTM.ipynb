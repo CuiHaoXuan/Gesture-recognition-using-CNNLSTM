{
 "cells": [
  {
   "cell_type": "code",
   "execution_count": 1,
   "metadata": {},
   "outputs": [
    {
     "name": "stdout",
     "output_type": "stream",
     "text": [
      "hdf5 is not supported on this machine (please install/reinstall h5py for optimal experience)\n",
      "curses is not supported on this machine (please install/reinstall curses for an optimal experience)\n"
     ]
    }
   ],
   "source": [
    "%matplotlib inline\n",
    "import cv2\n",
    "from matplotlib import pyplot as plt\n",
    "import tensorflow as tf\n",
    "import numpy as np\n",
    "import pandas as pd\n",
    "import os\n",
    "import sys\n",
    "from PIL import Image\n",
    "from sklearn.preprocessing import LabelEncoder\n",
    "from sklearn.preprocessing import OneHotEncoder\n",
    "from sklearn.model_selection import train_test_split\n",
    "from tensorflow.contrib import rnn\n",
    "import timeit\n",
    "import tflearn\n",
    "from tflearn.layers.recurrent import lstm\n",
    "from tflearn.layers.conv import conv_2d, max_pool_2d\n",
    "from tflearn.layers.estimator import regression\n",
    "from tflearn.layers.core import input_data, dropout, fully_connected, time_distributed, flatten, activation\n",
    "# import tensorflow.rnn as rnn\n",
    "# from tensorflow.data import DataSet "
   ]
  },
  {
   "cell_type": "code",
   "execution_count": 2,
   "metadata": {
    "collapsed": true
   },
   "outputs": [],
   "source": [
    "tf.reset_default_graph()"
   ]
  },
  {
   "cell_type": "code",
   "execution_count": 3,
   "metadata": {
    "collapsed": true
   },
   "outputs": [],
   "source": [
    "epoch = 20\n",
    "\n",
    "batch_size = 32\n",
    "\n",
    "#Prepare input data\n",
    "classes = ['Abort','Circle', 'Hello', 'No', 'Stop', 'Turn Left', 'Turn Right', \n",
    "         'Turn', 'Warn', 'No_motion'] #['Circle','Turn Left', 'Turn Right']#\n",
    "num_classes = len(classes)"
   ]
  },
  {
   "cell_type": "code",
   "execution_count": 4,
   "metadata": {},
   "outputs": [
    {
     "name": "stdout",
     "output_type": "stream",
     "text": [
      "['Abort' 'Circle' 'Hello' 'No' 'Stop' 'Turn Left' 'Turn Right' 'Turn'\n",
      " 'Warn' 'No_motion']\n",
      "[0 1 2 3 5 7 8 6 9 4]\n",
      "[[ 1.  0.  0.  0.  0.  0.  0.  0.  0.  0.]\n",
      " [ 0.  1.  0.  0.  0.  0.  0.  0.  0.  0.]\n",
      " [ 0.  0.  1.  0.  0.  0.  0.  0.  0.  0.]\n",
      " [ 0.  0.  0.  1.  0.  0.  0.  0.  0.  0.]\n",
      " [ 0.  0.  0.  0.  0.  1.  0.  0.  0.  0.]\n",
      " [ 0.  0.  0.  0.  0.  0.  0.  1.  0.  0.]\n",
      " [ 0.  0.  0.  0.  0.  0.  0.  0.  1.  0.]\n",
      " [ 0.  0.  0.  0.  0.  0.  1.  0.  0.  0.]\n",
      " [ 0.  0.  0.  0.  0.  0.  0.  0.  0.  1.]\n",
      " [ 0.  0.  0.  0.  1.  0.  0.  0.  0.  0.]]\n",
      "['Abort']\n"
     ]
    }
   ],
   "source": [
    "# define example\n",
    "values = np.array(classes)\n",
    "print(values)\n",
    "# integer encode\n",
    "label_encoder = LabelEncoder()\n",
    "integer_encoded = label_encoder.fit_transform(values)\n",
    "print(integer_encoded)\n",
    "# binary encode\n",
    "onehot_encoder = OneHotEncoder(sparse=False)\n",
    "integer_encoded = integer_encoded.reshape(len(integer_encoded), 1)\n",
    "onehot_encoded = onehot_encoder.fit_transform(integer_encoded)\n",
    "print(onehot_encoded)\n",
    "# invert first example\n",
    "inverted = label_encoder.inverse_transform([np.argmax(onehot_encoded[0, :])])\n",
    "print(inverted)"
   ]
  },
  {
   "cell_type": "code",
   "execution_count": 5,
   "metadata": {},
   "outputs": [
    {
     "data": {
      "text/plain": [
       "[0]"
      ]
     },
     "execution_count": 5,
     "metadata": {},
     "output_type": "execute_result"
    }
   ],
   "source": [
    "[np.argmax(onehot_encoded[0, :])]"
   ]
  },
  {
   "cell_type": "code",
   "execution_count": 6,
   "metadata": {
    "collapsed": true
   },
   "outputs": [],
   "source": [
    "# 20% of the data will automatically be used for validation\n",
    "validation_size = 0.2\n",
    "img_size = (64, 48)\n",
    "num_channels = 1\n",
    "train_path='training_data'"
   ]
  },
  {
   "cell_type": "code",
   "execution_count": 7,
   "metadata": {},
   "outputs": [
    {
     "name": "stdout",
     "output_type": "stream",
     "text": [
      "abort\n",
      "maxi: 22\n",
      "circle\n",
      "maxi: 22\n",
      "hello\n",
      "maxi: 22\n",
      "no\n",
      "maxi: 22\n",
      "stop\n",
      "maxi: 22\n",
      "turn\n",
      "maxi: 22\n",
      "turn_left\n",
      "maxi: 22\n",
      "turn_right\n",
      "maxi: 22\n",
      "warn\n",
      "maxi: 22\n"
     ]
    }
   ],
   "source": [
    "#load Data of Differential images\n",
    "x_data = []\n",
    "y_label = []\n",
    "path = r'C:\\\\Study\\\\Sem 3\\\\ChrisTseng\\\\gesture\\\\Save1'\n",
    "for g in os.listdir(path):\n",
    "    print (g)\n",
    "    gp = os.path.join(path,g)\n",
    "    maxi = 100\n",
    "    for s in os.listdir(gp): #sample 1_0\n",
    "        sp = os.path.join(gp, s)\n",
    "        t = [] #np.array([], np.int32)\n",
    "        for i in os.listdir(sp):\n",
    "            a = np.asarray(Image.open(os.path.join(sp, i)))\n",
    "            if a.shape != (48,64):\n",
    "                print(sp+\" : \"+str(a.shape))\n",
    "            #Clipping number of frames per action to 22\n",
    "            if len(t) != 22:\n",
    "                t.append(np.transpose(a/255.0))\n",
    "            else:\n",
    "                break\n",
    "#             maxi = max(maxi,i)\n",
    "        t = np.pad(t, ((0,22-len(t)),(0,0),(0,0)), 'constant', constant_values=[0])\n",
    "        x_data.append(np.array(t))\n",
    "        y_label.append(g)\n",
    "        maxi = min(len(t), maxi)\n",
    "    print(\"maxi: \"+str(maxi))"
   ]
  },
  {
   "cell_type": "code",
   "execution_count": 8,
   "metadata": {
    "collapsed": true
   },
   "outputs": [],
   "source": [
    "#Adding samples of black differential image as 'No_motion'\n",
    "for i in range(60):\n",
    "    x_data.append(np.zeros((22,64,48), int))\n",
    "    y_label.append('No_motion')"
   ]
  },
  {
   "cell_type": "code",
   "execution_count": 9,
   "metadata": {
    "collapsed": true
   },
   "outputs": [],
   "source": [
    "# x_data = x_data/255.0"
   ]
  },
  {
   "cell_type": "code",
   "execution_count": 10,
   "metadata": {
    "collapsed": true
   },
   "outputs": [],
   "source": [
    "y_enc_label = onehot_encoder.fit_transform(label_encoder.fit_transform(y_label).reshape(len(y_label), 1))"
   ]
  },
  {
   "cell_type": "code",
   "execution_count": 11,
   "metadata": {
    "collapsed": true
   },
   "outputs": [],
   "source": [
    "x_data_a = np.array(x_data)"
   ]
  },
  {
   "cell_type": "code",
   "execution_count": 12,
   "metadata": {},
   "outputs": [
    {
     "data": {
      "text/plain": [
       "603"
      ]
     },
     "execution_count": 12,
     "metadata": {},
     "output_type": "execute_result"
    }
   ],
   "source": [
    "len(x_data)"
   ]
  },
  {
   "cell_type": "code",
   "execution_count": 13,
   "metadata": {},
   "outputs": [
    {
     "data": {
      "text/plain": [
       "(22, 64, 48)"
      ]
     },
     "execution_count": 13,
     "metadata": {},
     "output_type": "execute_result"
    }
   ],
   "source": [
    "x_data[5].shape"
   ]
  },
  {
   "cell_type": "code",
   "execution_count": 14,
   "metadata": {},
   "outputs": [
    {
     "data": {
      "text/plain": [
       "(603, 22, 64, 48)"
      ]
     },
     "execution_count": 14,
     "metadata": {},
     "output_type": "execute_result"
    }
   ],
   "source": [
    "x_data_a.shape"
   ]
  },
  {
   "cell_type": "code",
   "execution_count": 15,
   "metadata": {},
   "outputs": [
    {
     "data": {
      "text/plain": [
       "22"
      ]
     },
     "execution_count": 15,
     "metadata": {},
     "output_type": "execute_result"
    }
   ],
   "source": [
    "len(x_data_a[4])\n"
   ]
  },
  {
   "cell_type": "code",
   "execution_count": 16,
   "metadata": {},
   "outputs": [
    {
     "data": {
      "text/plain": [
       "(603, 10)"
      ]
     },
     "execution_count": 16,
     "metadata": {},
     "output_type": "execute_result"
    }
   ],
   "source": [
    "y_enc_label.shape"
   ]
  },
  {
   "cell_type": "code",
   "execution_count": 17,
   "metadata": {
    "collapsed": true
   },
   "outputs": [],
   "source": [
    "X = x_data_a.reshape(-1, 22, 64, 48, 1)\n",
    "y = y_enc_label\n",
    "X_train, X_test, y_train, y_test = train_test_split(X, y, test_size=0.2, random_state=1)\n",
    "\n",
    "X_train, X_val, y_train, y_val = train_test_split(X_train, y_train, test_size=0.2, random_state=1)"
   ]
  },
  {
   "cell_type": "code",
   "execution_count": 18,
   "metadata": {},
   "outputs": [
    {
     "data": {
      "text/plain": [
       "(385, 22, 64, 48, 1)"
      ]
     },
     "execution_count": 18,
     "metadata": {},
     "output_type": "execute_result"
    }
   ],
   "source": [
    "# data_sets = \n",
    "# data_sets.train = DataSet(X_train, y_train)\n",
    "# data_sets.validation = DataSet(X_val, y_val)\n",
    "# data_sets.test = DataSet(X_test, y_test)\n",
    "X_train.shape"
   ]
  },
  {
   "cell_type": "code",
   "execution_count": 19,
   "metadata": {
    "collapsed": true
   },
   "outputs": [],
   "source": [
    "x = tf.placeholder(tf.float32, shape=[None, img_size[0], img_size[1], num_channels], name='x')"
   ]
  },
  {
   "cell_type": "code",
   "execution_count": 20,
   "metadata": {},
   "outputs": [
    {
     "name": "stdout",
     "output_type": "stream",
     "text": [
      "WARNING:tensorflow:From <ipython-input-20-de9c5ef64089>:3: calling argmax (from tensorflow.python.ops.math_ops) with dimension is deprecated and will be removed in a future version.\n",
      "Instructions for updating:\n",
      "Use the `axis` argument instead\n"
     ]
    }
   ],
   "source": [
    "## labels\n",
    "y_true = tf.placeholder(tf.float32, shape=[None, num_classes], name='y_true')\n",
    "y_true_cls = tf.argmax(y_true, dimension=1)"
   ]
  },
  {
   "cell_type": "code",
   "execution_count": 21,
   "metadata": {
    "collapsed": true
   },
   "outputs": [],
   "source": [
    "##Network graph params\n",
    "filter_size_conv1 = 3\n",
    "num_filters_conv1 = 20\n",
    "\n",
    "filter_size_conv2 = 6\n",
    "num_filters_conv2 = 10\n",
    "\n",
    "filter_size_conv3 = 5\n",
    "num_filters_conv3 = 5\n",
    "\n",
    "filter_size_conv4 = 2\n",
    "num_filters_conv4 = 2\n",
    "\n",
    "lstm_units = 500\n",
    "    \n",
    "fc_layer_size = 500\n",
    "\n",
    "learning_rate = 1e-4"
   ]
  },
  {
   "cell_type": "code",
   "execution_count": 22,
   "metadata": {
    "collapsed": true
   },
   "outputs": [],
   "source": [
    "# net = tflearn.input_data([None, 22, 64, 48], name=\"input\")\n",
    "# net = time_distributed(net, conv_2d, args=[nb_filter=num_filters_conv1,\n",
    "#                                   filter_size=filter_size_conv1,\n",
    "#                                   activation='tanh'])\n",
    "# net = time_distributed(net, max_pool_2d, args=[kernel_size=2])\n",
    "# net = time_distributed(net, conv_2d, args=[nb_filter=num_filters_conv2,\n",
    "#                                   filter_size=filter_size_conv2,\n",
    "#                                   activation='tanh'])\n",
    "# net = time_distributed(net, max_pool_2d, args=[kernel_size=2])\n",
    "# net = time_distributed(net, flatten, args=[name='flat'])"
   ]
  },
  {
   "cell_type": "code",
   "execution_count": 23,
   "metadata": {
    "collapsed": true
   },
   "outputs": [],
   "source": [
    "tflearn.config.init_training_mode()\n",
    "net = tflearn.input_data([None, 22, 64, 48, 1], name=\"input\")\n",
    "#layer_1 CNN\n",
    "net = time_distributed(net, conv_2d, args=[num_filters_conv1,\n",
    "                                  filter_size_conv1,1,'same',\n",
    "                                  'tanh', True, 'xavier'])"
   ]
  },
  {
   "cell_type": "code",
   "execution_count": 24,
   "metadata": {},
   "outputs": [
    {
     "data": {
      "text/plain": [
       "<tf.Tensor 'concat:0' shape=(?, 22, 64, 48, 5) dtype=float32>"
      ]
     },
     "execution_count": 24,
     "metadata": {},
     "output_type": "execute_result"
    }
   ],
   "source": [
    "net"
   ]
  },
  {
   "cell_type": "code",
   "execution_count": 25,
   "metadata": {
    "collapsed": true
   },
   "outputs": [],
   "source": [
    "net = time_distributed(net, max_pool_2d, args=[2])"
   ]
  },
  {
   "cell_type": "code",
   "execution_count": 26,
   "metadata": {},
   "outputs": [
    {
     "data": {
      "text/plain": [
       "<tf.Tensor 'concat_1:0' shape=(?, 22, 32, 24, 5) dtype=float32>"
      ]
     },
     "execution_count": 26,
     "metadata": {},
     "output_type": "execute_result"
    }
   ],
   "source": [
    "net"
   ]
  },
  {
   "cell_type": "code",
   "execution_count": 27,
   "metadata": {
    "collapsed": true
   },
   "outputs": [],
   "source": [
    "#dropout\n",
    "net = time_distributed(net, dropout, args=[0.7])\n",
    "#layer_2 CNN\n",
    "net = time_distributed(net, conv_2d, args=[num_filters_conv2,\n",
    "                                  filter_size_conv2,1,'same',\n",
    "                                  'tanh', True, 'xavier'])\n",
    "net = time_distributed(net, max_pool_2d, args=[2])\n",
    "#layer_3 CNN\n",
    "net = time_distributed(net, conv_2d, args=[num_filters_conv3,\n",
    "                                  filter_size_conv3,1,'same',\n",
    "                                  'tanh', True, 'xavier'])\n",
    "net = time_distributed(net, max_pool_2d, args=[2])\n",
    "# #layer_4 CNN\n",
    "# net = time_distributed(net, conv_2d, args=[num_filters_conv4,\n",
    "#                                   filter_size_conv4,1,'same',\n",
    "#                                   'tanh', True, 'xavier'])\n",
    "# net = time_distributed(net, max_pool_2d, args=[2])\n",
    "#dropout\n",
    "net = time_distributed(net, dropout, args=[0.6])\n",
    "net = time_distributed(net, flatten, args=['flat'])"
   ]
  },
  {
   "cell_type": "code",
   "execution_count": 28,
   "metadata": {
    "collapsed": true
   },
   "outputs": [],
   "source": [
    "# net = time_distributed(net, dense, args=[fc_layer_size])"
   ]
  },
  {
   "cell_type": "code",
   "execution_count": 29,
   "metadata": {},
   "outputs": [
    {
     "data": {
      "text/plain": [
       "<tf.Tensor 'concat_8:0' shape=(?, 22, 240) dtype=float32>"
      ]
     },
     "execution_count": 29,
     "metadata": {},
     "output_type": "execute_result"
    }
   ],
   "source": [
    "net"
   ]
  },
  {
   "cell_type": "code",
   "execution_count": 30,
   "metadata": {
    "collapsed": true
   },
   "outputs": [],
   "source": [
    "net = lstm(net, lstm_units, dropout=(0.9,0.7))"
   ]
  },
  {
   "cell_type": "code",
   "execution_count": 31,
   "metadata": {},
   "outputs": [
    {
     "data": {
      "text/plain": [
       "<tf.Tensor 'LSTM/LSTM/cond_43/Merge:0' shape=(?, 500) dtype=float32>"
      ]
     },
     "execution_count": 31,
     "metadata": {},
     "output_type": "execute_result"
    }
   ],
   "source": [
    "net"
   ]
  },
  {
   "cell_type": "code",
   "execution_count": 32,
   "metadata": {
    "collapsed": true
   },
   "outputs": [],
   "source": [
    "fc_layer = tflearn.fully_connected(net, num_classes, activation='softmax')"
   ]
  },
  {
   "cell_type": "code",
   "execution_count": 33,
   "metadata": {},
   "outputs": [
    {
     "data": {
      "text/plain": [
       "<tf.Tensor 'FullyConnected/Softmax:0' shape=(?, 10) dtype=float32>"
      ]
     },
     "execution_count": 33,
     "metadata": {},
     "output_type": "execute_result"
    }
   ],
   "source": [
    "fc_layer"
   ]
  },
  {
   "cell_type": "code",
   "execution_count": 34,
   "metadata": {
    "collapsed": true
   },
   "outputs": [],
   "source": [
    "loss = tflearn.objectives.categorical_crossentropy (fc_layer, y_true)"
   ]
  },
  {
   "cell_type": "code",
   "execution_count": 35,
   "metadata": {},
   "outputs": [
    {
     "data": {
      "text/plain": [
       "<tf.Tensor 'Crossentropy/Mean:0' shape=() dtype=float32>"
      ]
     },
     "execution_count": 35,
     "metadata": {},
     "output_type": "execute_result"
    }
   ],
   "source": [
    "loss"
   ]
  },
  {
   "cell_type": "code",
   "execution_count": 36,
   "metadata": {
    "collapsed": true
   },
   "outputs": [],
   "source": [
    "network = regression(fc_layer, optimizer='adam',\n",
    "                     loss='categorical_crossentropy',\n",
    "                     learning_rate=0.001)\n",
    "\n",
    "# Training\n",
    "model = tflearn.DNN(network, tensorboard_verbose=0, checkpoint_path='gestureCNNLSTM.tfl.ckpt',\n",
    "                    best_checkpoint_path='./best_gestureCNNLSTM', max_checkpoints=2)"
   ]
  },
  {
   "cell_type": "code",
   "execution_count": 37,
   "metadata": {},
   "outputs": [
    {
     "name": "stdout",
     "output_type": "stream",
     "text": [
      "Training Step: 259  | total loss: \u001b[1m\u001b[32m0.87790\u001b[0m\u001b[0m | time: 73.974s\n",
      "| Adam | epoch: 020 | loss: 0.87790 - acc: 0.7169 -- iter: 384/385\n",
      "Training Step: 260  | total loss: \u001b[1m\u001b[32m0.88623\u001b[0m\u001b[0m | time: 93.554s\n",
      "| Adam | epoch: 020 | loss: 0.88623 - acc: 0.7108 | val_loss: 1.20183 - val_acc: 0.6082 -- iter: 385/385\n",
      "--\n"
     ]
    }
   ],
   "source": [
    "model.fit(X_train, y_train, validation_set=(X_val, y_val), n_epoch=epoch, shuffle=True,\n",
    "          show_metric=True, batch_size=32, run_id='gesture1')"
   ]
  },
  {
   "cell_type": "code",
   "execution_count": 38,
   "metadata": {
    "collapsed": true
   },
   "outputs": [],
   "source": [
    "model.save(\"gestureCNNLSTM.tfl\")"
   ]
  },
  {
   "cell_type": "code",
   "execution_count": null,
   "metadata": {
    "collapsed": true
   },
   "outputs": [],
   "source": [
    "X_train.shape"
   ]
  },
  {
   "cell_type": "code",
   "execution_count": null,
   "metadata": {
    "collapsed": true
   },
   "outputs": [],
   "source": [
    "model.load(\"gestureCNNLSTM.tfl\")"
   ]
  },
  {
   "cell_type": "code",
   "execution_count": null,
   "metadata": {
    "collapsed": true
   },
   "outputs": [],
   "source": []
  },
  {
   "cell_type": "code",
   "execution_count": null,
   "metadata": {
    "collapsed": true
   },
   "outputs": [],
   "source": []
  },
  {
   "cell_type": "code",
   "execution_count": null,
   "metadata": {
    "collapsed": true
   },
   "outputs": [],
   "source": []
  }
 ],
 "metadata": {
  "anaconda-cloud": {},
  "kernelspec": {
   "display_name": "Python 3",
   "language": "python",
   "name": "python3"
  },
  "language_info": {
   "codemirror_mode": {
    "name": "ipython",
    "version": 3
   },
   "file_extension": ".py",
   "mimetype": "text/x-python",
   "name": "python",
   "nbconvert_exporter": "python",
   "pygments_lexer": "ipython3",
   "version": "3.5.4"
  }
 },
 "nbformat": 4,
 "nbformat_minor": 2
}
